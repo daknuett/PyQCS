{
 "cells": [
  {
   "cell_type": "markdown",
   "id": "7df44fc2",
   "metadata": {},
   "source": [
    "# Factorization of the Local Clifford Group\n",
    "\n",
    "For technical reasons we need to factorize the local Clifford using two sets of generators.\n",
    "One is the usually used operators $H, S$ which is typically used during computations.\n",
    "The other generators are $\\sqrt{-iZ}, \\sqrt{iX}$ which is required to \"clear\" vertex operators using local graph complementations.\n",
    "\n",
    "We use the [Cayley graph](https://en.wikipedia.org/wiki/Cayley_graph) for factorization. The multiplication\n",
    "table of the group is well known. There should also be a notebook in `examples/` showing how we computed the multiplication table."
   ]
  },
  {
   "cell_type": "code",
   "execution_count": 1,
   "id": "d6a747c9",
   "metadata": {},
   "outputs": [],
   "source": [
    "def dijkstra(start, adjacencies, elements):\n",
    "    unvisited = set(elements)\n",
    "    paths = [[] for _ in elements]\n",
    "    weights = [float('inf') for _ in elements]\n",
    "    weights[start] = 0\n",
    "\n",
    "    c_node = start\n",
    "    while(unvisited):\n",
    "        for label, ngb in adjacencies[c_node]:\n",
    "            if(weights[c_node] + 1 < weights[ngb]):\n",
    "                weights[ngb] = weights[c_node] + 1\n",
    "                paths[ngb] = paths[c_node] + [label]\n",
    "        unvisited -= {c_node}\n",
    "        if(not unvisited):\n",
    "            return paths\n",
    "        c_node = min(((weights[u], u) for u in unvisited), key=lambda x: x[0])[1]\n",
    "\n",
    "    return paths\n",
    "\n",
    "\n",
    "\n",
    "def decompose(multiplication_table, generators, elements, identity):\n",
    "    adjacencies = [\n",
    "            [(g, multiplication_table[elem][g]) for g in generators]\n",
    "                    for  elem in elements]\n",
    "    return dijkstra(identity, adjacencies, elements)\n",
    "    \n",
    "\n"
   ]
  },
  {
   "cell_type": "code",
   "execution_count": 2,
   "id": "9a98a00f",
   "metadata": {},
   "outputs": [],
   "source": [
    "from pprint import pprint\n",
    "\n",
    "from implementation import decompose\n",
    "\n",
    "multiplication_table = [\n",
    "\t[2, 4, 0, 12, 1, 7, 15, 5, 10, 19, 8, 22, 3, 14, 13, 6, 23, 18, 17, 9, 21, 20, 11, 16]\n",
    "\t, [3, 5, 1, 13, 6, 8, 17, 9, 2, 20, 11, 23, 10, 15, 16, 0, 21, 19, 14, 4, 22, 18, 7, 12]\n",
    "\t, [0, 1, 2, 3, 4, 5, 6, 7, 8, 9, 10, 11, 12, 13, 14, 15, 16, 17, 18, 19, 20, 21, 22, 23]\n",
    "\t, [1, 6, 3, 10, 5, 9, 0, 8, 11, 4, 2, 7, 13, 16, 15, 17, 12, 14, 19, 20, 18, 22, 23, 21]\n",
    "\t, [12, 7, 4, 14, 15, 10, 18, 19, 0, 21, 22, 16, 8, 6, 23, 2, 20, 9, 13, 1, 11, 17, 5, 3]\n",
    "\t, [13, 8, 5, 15, 17, 2, 19, 20, 1, 22, 23, 12, 11, 0, 21, 3, 18, 4, 16, 6, 7, 14, 9, 10]\n",
    "\t, [10, 9, 6, 16, 0, 11, 14, 4, 3, 18, 7, 21, 2, 17, 12, 1, 22, 20, 15, 5, 23, 19, 8, 13]\n",
    "\t, [14, 10, 7, 6, 18, 0, 9, 21, 4, 11, 16, 3, 22, 2, 20, 12, 17, 1, 23, 15, 5, 13, 19, 8]\n",
    "\t, [15, 2, 8, 0, 19, 1, 4, 22, 5, 7, 12, 10, 23, 3, 18, 13, 14, 6, 21, 17, 9, 16, 20, 11]\n",
    "\t, [16, 11, 9, 17, 14, 3, 20, 18, 6, 23, 21, 13, 7, 1, 22, 10, 19, 5, 12, 0, 8, 15, 4, 2]\n",
    "\t, [6, 0, 10, 2, 9, 4, 1, 11, 7, 5, 3, 8, 16, 12, 17, 14, 13, 15, 20, 18, 19, 23, 21, 22]\n",
    "\t, [17, 3, 11, 1, 20, 6, 5, 23, 9, 8, 13, 2, 21, 10, 19, 16, 15, 0, 22, 14, 4, 12, 18, 7]\n",
    "\t, [4, 15, 12, 8, 7, 19, 2, 10, 22, 1, 0, 5, 14, 23, 6, 18, 3, 13, 9, 21, 17, 11, 16, 20]\n",
    "\t, [5, 17, 13, 11, 8, 20, 3, 2, 23, 6, 1, 9, 15, 21, 0, 19, 10, 16, 4, 22, 14, 7, 12, 18]\n",
    "\t, [7, 18, 14, 22, 10, 21, 12, 0, 16, 15, 4, 19, 6, 20, 2, 9, 8, 23, 1, 11, 13, 5, 3, 17]\n",
    "\t, [8, 19, 15, 23, 2, 22, 13, 1, 12, 17, 5, 20, 0, 18, 3, 4, 11, 21, 6, 7, 16, 9, 10, 14]\n",
    "\t, [9, 14, 16, 7, 11, 18, 10, 3, 21, 0, 6, 4, 17, 22, 1, 20, 2, 12, 5, 23, 15, 8, 13, 19]\n",
    "\t, [11, 20, 17, 21, 3, 23, 16, 6, 13, 14, 9, 18, 1, 19, 10, 5, 7, 22, 0, 8, 12, 4, 2, 15]\n",
    "\t, [22, 21, 18, 20, 12, 16, 23, 15, 14, 13, 19, 17, 4, 9, 8, 7, 5, 11, 2, 10, 3, 1, 0, 6]\n",
    "\t, [23, 22, 19, 18, 13, 12, 21, 17, 15, 16, 20, 14, 5, 4, 11, 8, 9, 7, 3, 2, 10, 6, 1, 0]\n",
    "\t, [21, 23, 20, 19, 16, 13, 22, 14, 17, 12, 18, 15, 9, 5, 7, 11, 4, 8, 10, 3, 2, 0, 6, 1]\n",
    "\t, [20, 16, 21, 9, 23, 14, 11, 13, 18, 3, 17, 6, 19, 7, 5, 22, 1, 10, 8, 12, 0, 2, 15, 4]\n",
    "\t, [18, 12, 22, 4, 21, 15, 7, 16, 19, 10, 14, 0, 20, 8, 9, 23, 6, 2, 11, 13, 1, 3, 17, 5]\n",
    "    , [19, 13, 23, 5, 22, 17, 8, 12, 20, 2, 15, 1, 18, 11, 4, 21, 0, 3, 7, 16, 6, 10, 14, 9]\n",
    "]\n",
    "elements = list(range(24))\n",
    "identity = 2\n"
   ]
  },
  {
   "cell_type": "markdown",
   "id": "3f05a5ae",
   "metadata": {},
   "source": [
    "First we factorize for $H, S$:"
   ]
  },
  {
   "cell_type": "code",
   "execution_count": 3,
   "id": "c2fd88d1",
   "metadata": {},
   "outputs": [
    {
     "data": {
      "text/plain": [
       "[[0],\n",
       " [1],\n",
       " [],\n",
       " [1, 0],\n",
       " [0, 1],\n",
       " [1, 1],\n",
       " [1, 0, 1],\n",
       " [0, 1, 1],\n",
       " [1, 1, 1],\n",
       " [1, 0, 1, 1],\n",
       " [1, 0, 1, 0],\n",
       " [1, 0, 1, 1, 1],\n",
       " [0, 1, 0],\n",
       " [1, 1, 0],\n",
       " [0, 1, 1, 0],\n",
       " [1, 1, 1, 0],\n",
       " [1, 0, 1, 1, 0],\n",
       " [1, 1, 0, 1],\n",
       " [0, 1, 1, 0, 1],\n",
       " [1, 1, 1, 0, 1],\n",
       " [1, 1, 0, 1, 1],\n",
       " [0, 1, 1, 0, 1, 1],\n",
       " [0, 1, 1, 0, 1, 0],\n",
       " [1, 1, 1, 0, 1, 0]]"
      ]
     },
     "execution_count": 3,
     "metadata": {},
     "output_type": "execute_result"
    }
   ],
   "source": [
    "decompose(multiplication_table, [0, 1], elements, identity)"
   ]
  },
  {
   "cell_type": "markdown",
   "id": "7f36bc45",
   "metadata": {},
   "source": [
    "Since many simulators not only implement $S$ but also $Z = S^2$ one can shorten the factorization with respect to $H, S$:"
   ]
  },
  {
   "cell_type": "code",
   "execution_count": 4,
   "id": "e780fabf",
   "metadata": {},
   "outputs": [
    {
     "data": {
      "text/plain": [
       "['H',\n",
       " 'S',\n",
       " '',\n",
       " 'SH',\n",
       " 'HS',\n",
       " 'SS',\n",
       " 'SHS',\n",
       " 'HSS',\n",
       " 'SSS',\n",
       " 'SHSS',\n",
       " 'SHSH',\n",
       " 'SHSSS',\n",
       " 'HSH',\n",
       " 'SSH',\n",
       " 'HSSH',\n",
       " 'SSSH',\n",
       " 'SHSSH',\n",
       " 'SSHS',\n",
       " 'HSSHS',\n",
       " 'SSSHS',\n",
       " 'SSHSS',\n",
       " 'HSSHSS',\n",
       " 'HSSHSH',\n",
       " 'SSSHSH']"
      ]
     },
     "execution_count": 4,
     "metadata": {},
     "output_type": "execute_result"
    }
   ],
   "source": [
    "names = \"HS\"\n",
    "factorization_strings = [\"\".join([names[i] for i in r]) for r in decompose(multiplication_table, [0, 1], elements, identity)]\n",
    "factorization_strings"
   ]
  },
  {
   "cell_type": "code",
   "execution_count": 5,
   "id": "8fcb9236",
   "metadata": {},
   "outputs": [
    {
     "data": {
      "text/plain": [
       "['H',\n",
       " 'S',\n",
       " '',\n",
       " 'SH',\n",
       " 'HS',\n",
       " 'Z',\n",
       " 'SHS',\n",
       " 'HZ',\n",
       " 'ZS',\n",
       " 'SHZ',\n",
       " 'SHSH',\n",
       " 'SHZS',\n",
       " 'HSH',\n",
       " 'ZH',\n",
       " 'HZH',\n",
       " 'ZSH',\n",
       " 'SHZH',\n",
       " 'ZHS',\n",
       " 'HZHS',\n",
       " 'ZSHS',\n",
       " 'ZHZ',\n",
       " 'HZHZ',\n",
       " 'HZHSH',\n",
       " 'ZSHSH']"
      ]
     },
     "execution_count": 5,
     "metadata": {},
     "output_type": "execute_result"
    }
   ],
   "source": [
    "factorization_strings = [s.replace(\"SS\", \"Z\") for s in factorization_strings]\n",
    "factorization_strings"
   ]
  },
  {
   "cell_type": "markdown",
   "id": "136bcb4f",
   "metadata": {},
   "source": [
    "Another optimization is to use the Pauli $X$ or NOT gate:"
   ]
  },
  {
   "cell_type": "code",
   "execution_count": 6,
   "id": "3fef4884",
   "metadata": {},
   "outputs": [
    {
     "data": {
      "text/plain": [
       "['H',\n",
       " 'S',\n",
       " '',\n",
       " 'SH',\n",
       " 'HS',\n",
       " 'Z',\n",
       " 'SHS',\n",
       " 'HZ',\n",
       " 'ZS',\n",
       " 'SHZ',\n",
       " 'SHSH',\n",
       " 'SHZS',\n",
       " 'HSH',\n",
       " 'ZH',\n",
       " 'X',\n",
       " 'ZSH',\n",
       " 'SX',\n",
       " 'ZHS',\n",
       " 'XS',\n",
       " 'ZSHS',\n",
       " 'ZHZ',\n",
       " 'XZ',\n",
       " 'XSH',\n",
       " 'ZSHSH']"
      ]
     },
     "execution_count": 6,
     "metadata": {},
     "output_type": "execute_result"
    }
   ],
   "source": [
    "factorization_strings = [s.replace(\"HZH\", \"X\") for s in factorization_strings]\n",
    "factorization_strings"
   ]
  },
  {
   "cell_type": "markdown",
   "id": "1c373264",
   "metadata": {},
   "source": [
    "We now factorize for the other choice of generators. It is required in local graph complementations which are used when applying $CZ$ operators to graphical states."
   ]
  },
  {
   "cell_type": "code",
   "execution_count": 7,
   "id": "27df260b",
   "metadata": {
    "scrolled": false
   },
   "outputs": [
    {
     "data": {
      "text/plain": [
       "[[8, 12, 12, 12, 8],\n",
       " [8, 8, 8],\n",
       " [],\n",
       " [12, 12, 12, 8],\n",
       " [8, 12, 12, 12],\n",
       " [8, 8],\n",
       " [12, 12, 12],\n",
       " [8, 8, 12, 8, 12],\n",
       " [8],\n",
       " [8, 8, 12, 8],\n",
       " [8, 8, 8, 12],\n",
       " [8, 8, 12],\n",
       " [12],\n",
       " [12, 12, 12, 8, 12],\n",
       " [12, 12],\n",
       " [12, 8, 8, 8],\n",
       " [12, 12, 8],\n",
       " [12, 12, 8, 12],\n",
       " [8, 12, 12],\n",
       " [12, 8, 8],\n",
       " [12, 8, 12],\n",
       " [8, 8, 12, 12],\n",
       " [12, 8],\n",
       " [8, 12]]"
      ]
     },
     "execution_count": 7,
     "metadata": {},
     "output_type": "execute_result"
    }
   ],
   "source": [
    "results = decompose(multiplication_table, [8, 12], elements, identity)\n",
    "results"
   ]
  },
  {
   "cell_type": "markdown",
   "id": "3faf34b8",
   "metadata": {},
   "source": [
    "For technical reasons we require the factorization to be in reverse order (we actually need it's dagger):"
   ]
  },
  {
   "cell_type": "code",
   "execution_count": 8,
   "id": "37b3f089",
   "metadata": {},
   "outputs": [
    {
     "data": {
      "text/plain": [
       "[[8, 12, 12, 12, 8],\n",
       " [8, 8, 8],\n",
       " [],\n",
       " [8, 12, 12, 12],\n",
       " [12, 12, 12, 8],\n",
       " [8, 8],\n",
       " [12, 12, 12],\n",
       " [12, 8, 12, 8, 8],\n",
       " [8],\n",
       " [8, 12, 8, 8],\n",
       " [12, 8, 8, 8],\n",
       " [12, 8, 8],\n",
       " [12],\n",
       " [12, 8, 12, 12, 12],\n",
       " [12, 12],\n",
       " [8, 8, 8, 12],\n",
       " [8, 12, 12],\n",
       " [12, 8, 12, 12],\n",
       " [12, 12, 8],\n",
       " [8, 8, 12],\n",
       " [12, 8, 12],\n",
       " [12, 12, 8, 8],\n",
       " [8, 12],\n",
       " [12, 8]]"
      ]
     },
     "execution_count": 8,
     "metadata": {},
     "output_type": "execute_result"
    }
   ],
   "source": [
    "true_ordered_results = [list(reversed(r)) for r in results]\n",
    "true_ordered_results"
   ]
  },
  {
   "cell_type": "markdown",
   "id": "9b912574",
   "metadata": {},
   "source": [
    "The factorization gives a recipe how to change the graph and the corresponding vertex operators. Changing the graph is done in so called local complementations that change the edges. Since local complementations are $\\mathbb{Z}_2$ (applying the same complementation twice results in an unchanged graph) we can optimize the algorithm: We need to complement the graph at most once for repeated same-generators. The actual implementation follows this method. We can assist by \"compressing\" the factorization:"
   ]
  },
  {
   "cell_type": "code",
   "execution_count": 9,
   "id": "7aa7a47e",
   "metadata": {},
   "outputs": [],
   "source": [
    "def to_compressed(row):\n",
    "    if(not row):\n",
    "        return []\n",
    "    \n",
    "    current_vop = row[0]\n",
    "    current_count = 1\n",
    "    result = []\n",
    "    \n",
    "    for vop in row[1:]:\n",
    "        if(vop == current_vop):\n",
    "            current_count += 1\n",
    "            continue\n",
    "        result.append((current_vop, current_count))\n",
    "        current_vop = vop\n",
    "        current_count = 1\n",
    "    \n",
    "    result.append((current_vop, current_count))\n",
    "    \n",
    "    return result\n"
   ]
  },
  {
   "cell_type": "code",
   "execution_count": 10,
   "id": "666dbaa1",
   "metadata": {},
   "outputs": [
    {
     "data": {
      "text/plain": [
       "[[(8, 1), (12, 3), (8, 1)],\n",
       " [(8, 3)],\n",
       " [],\n",
       " [(8, 1), (12, 3)],\n",
       " [(12, 3), (8, 1)],\n",
       " [(8, 2)],\n",
       " [(12, 3)],\n",
       " [(12, 1), (8, 1), (12, 1), (8, 2)],\n",
       " [(8, 1)],\n",
       " [(8, 1), (12, 1), (8, 2)],\n",
       " [(12, 1), (8, 3)],\n",
       " [(12, 1), (8, 2)],\n",
       " [(12, 1)],\n",
       " [(12, 1), (8, 1), (12, 3)],\n",
       " [(12, 2)],\n",
       " [(8, 3), (12, 1)],\n",
       " [(8, 1), (12, 2)],\n",
       " [(12, 1), (8, 1), (12, 2)],\n",
       " [(12, 2), (8, 1)],\n",
       " [(8, 2), (12, 1)],\n",
       " [(12, 1), (8, 1), (12, 1)],\n",
       " [(12, 2), (8, 2)],\n",
       " [(8, 1), (12, 1)],\n",
       " [(12, 1), (8, 1)]]"
      ]
     },
     "execution_count": 10,
     "metadata": {},
     "output_type": "execute_result"
    }
   ],
   "source": [
    "compressend_true_ordered_results = [to_compressed(r) for r in true_ordered_results]\n",
    "compressend_true_ordered_results\n"
   ]
  },
  {
   "cell_type": "markdown",
   "id": "bf5a49b2",
   "metadata": {},
   "source": [
    "Here every tuple $(v, k)$ means \"apply the operator $v$ $k$ times. Make a local complementation if $k \\mbox{ mod } 2 \\neq 0$\"."
   ]
  }
 ],
 "metadata": {
  "kernelspec": {
   "display_name": "Python 3 (ipykernel)",
   "language": "python",
   "name": "python3"
  },
  "language_info": {
   "codemirror_mode": {
    "name": "ipython",
    "version": 3
   },
   "file_extension": ".py",
   "mimetype": "text/x-python",
   "name": "python",
   "nbconvert_exporter": "python",
   "pygments_lexer": "ipython3",
   "version": "3.9.7"
  }
 },
 "nbformat": 4,
 "nbformat_minor": 5
}
