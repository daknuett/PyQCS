{
 "cells": [
  {
   "cell_type": "markdown",
   "metadata": {},
   "source": [
    "# Using PyQCS Experiments\n",
    "\n",
    "Quantum simulations can take quite a while: Applying gates to states takes some time (this time grows exponentially in the number of qbits), and often many samples are required to measure amplitudes with sufficient precision. A typical case is the simulation of Hamiltonian dynamics using trotterization: There are several qbits, deep circuits, and sampling. But we also want to repeat the simulation for several points in time.\n",
    "\n",
    "The subpackage `pyqcs.experiment` allows for a simple way to parallelize such simulations and run them on clusters using [ray](https://pypi.org/project/ray/)."
   ]
  },
  {
   "cell_type": "markdown",
   "metadata": {},
   "source": [
    "## Parallelized Hamiltonian Dynamics\n",
    "\n",
    "To demonstrate the parallelization we will use a simple example of Hamiltonian dynamics: The transverse Ising model in a magnetic field with open boundary conditions. For the Hamiltonian\n",
    "\n",
    "$$ H = \\sum\\limits_{i=0}^{n-2} Z_iZ_{i+1} + g\\sum\\limits_{i=0}^{n-1} X_i $$\n",
    "\n",
    "we can derive the following Trotterized transfer matrix:"
   ]
  },
  {
   "cell_type": "code",
   "execution_count": 1,
   "metadata": {},
   "outputs": [],
   "source": [
    "from pyqcs import X, Z, H, R, CX, State, list_to_circuit, sample\n",
    "\n",
    "def T_interaction(a, b, t):\n",
    "    theta = -t/2\n",
    "\n",
    "    return (CX(a, b) | R(a, -theta)\n",
    "            | X(a) | R(a, theta) | X(a) | CX(a, b))\n",
    "\n",
    "def T_field(a, t, g):\n",
    "    theta = g*t/2\n",
    "\n",
    "    return (H(a) | R(a, -2*theta) | H(a)\n",
    "            | R(a, theta) | X(a) | R(a, theta) | X(a))\n",
    "\n",
    "def T_time_slice(qbits, t, g, N):\n",
    "    interactions_half = list_to_circuit(\n",
    "                [T_interaction(i, i+1, t/(2*N))\n",
    "                    for i,_ in enumerate(qbits[:-1])]\n",
    "            )\n",
    "\n",
    "    field = list_to_circuit([T_field(i, t/N, g) for i,_ in enumerate(qbits)])\n",
    "\n",
    "    return (interactions_half | field | interactions_half)\n"
   ]
  },
  {
   "cell_type": "markdown",
   "metadata": {},
   "source": [
    "We will run the simulation using $6$ sites, with a magnetic fieldstrength of $g = 3$,\n",
    "$80$ Trotterization steps, $\\Delta t = 0.1$, and a final time of $t_s = 29$. We will measure the amplitude of\n",
    "the second site and use $2200$ samples:"
   ]
  },
  {
   "cell_type": "code",
   "execution_count": 2,
   "metadata": {},
   "outputs": [],
   "source": [
    "nqbits = 6\n",
    "g = 3\n",
    "N_trot = 80\n",
    "t_stop = 29\n",
    "delta_t = 0.1\n",
    "qbits = list(range(nqbits))\n",
    "\n",
    "n_sample = 4200\n",
    "measure = 0b10"
   ]
  },
  {
   "cell_type": "code",
   "execution_count": 3,
   "metadata": {},
   "outputs": [],
   "source": [
    "measure_coefficient_mask = [False if (i & measure) else True for i in range(2**nqbits)]"
   ]
  },
  {
   "cell_type": "markdown",
   "metadata": {},
   "source": [
    "Now we build a workflow to compute the probability amplitude at time $t$:"
   ]
  },
  {
   "cell_type": "code",
   "execution_count": 4,
   "metadata": {},
   "outputs": [],
   "source": [
    "from pyqcs.experiment.workflow import FunctionInstruction, WorkflowSpawner"
   ]
  },
  {
   "cell_type": "code",
   "execution_count": 5,
   "metadata": {},
   "outputs": [],
   "source": [
    "def simulate_state(t):\n",
    "    state = State.new_zero_state(nqbits)\n",
    "\n",
    "    T_dt = T_time_slice(qbits, t, g, N_trot)\n",
    "    for _ in range(N_trot):\n",
    "        state = T_dt * state\n",
    "        \n",
    "    return state\n",
    "\n",
    "def sample_result(state):\n",
    "    result = sample(state, measure, n_sample)\n",
    "    return result[0] / n_sample\n",
    "\n",
    "instructions = [\n",
    "    FunctionInstruction(\"Simulate Dynamics\", simulate_state)\n",
    "    , FunctionInstruction(\"Sample the Probability Amplitude\", sample_result)\n",
    "]\n",
    "\n",
    "wf_spawner = WorkflowSpawner(\"Transition Probability Simulation\", instructions)"
   ]
  },
  {
   "cell_type": "markdown",
   "metadata": {},
   "source": [
    "A workflow always has a list of instructions: These are callable (in the most simple case just functions), take the result of the previous instruction, and return the input for the next instruction. The first instruction takes the parameters of the workflow; the last instruction returns the final result.\n",
    "\n",
    "Using `FunctionInstruction` to wrap a function has advantages when logging is turned on.\n",
    "\n",
    "The `WorkFlowSpawner` is a helper that will create a new `Workflow` using the `spawn` method. This is needed because `ray` requires several actors for parallelization."
   ]
  },
  {
   "cell_type": "markdown",
   "metadata": {},
   "source": [
    "Now we can use this workflow to create an `ActorPool` using `ray` and compute the transition amplitudes:"
   ]
  },
  {
   "cell_type": "code",
   "execution_count": 7,
   "metadata": {},
   "outputs": [
    {
     "name": "stderr",
     "output_type": "stream",
     "text": [
      "2020-10-20 15:33:39,405\tINFO services.py:1166 -- View the Ray dashboard at \u001b[1m\u001b[32mhttp://127.0.0.1:8265\u001b[39m\u001b[22m\n"
     ]
    }
   ],
   "source": [
    "import ray\n",
    "ray.init() # Connect to your cluster in this step.\n",
    "#ray.init(address='xxx.xxx.xxx.xxx:6379', _redis_password='5241590000000000')\n",
    "\n",
    "nworkers = 4 # Use something that matches your CPU count here.\n",
    "\n",
    "actors = [wf_spawner.spawn() for _ in range(nworkers)]\n",
    "pool = ray.util.ActorPool(actors)"
   ]
  },
  {
   "cell_type": "markdown",
   "metadata": {},
   "source": [
    "Now we can use this pool to compute the values as a function of time:"
   ]
  },
  {
   "cell_type": "code",
   "execution_count": 8,
   "metadata": {},
   "outputs": [],
   "source": [
    "import numpy as np\n",
    "\n",
    "time = np.arange(0, t_stop, delta_t)\n",
    "\n",
    "results = np.array(list(pool.map(lambda a,v: a.execute.remote(v), time)))"
   ]
  },
  {
   "cell_type": "code",
   "execution_count": 9,
   "metadata": {},
   "outputs": [
    {
     "data": {
      "text/plain": [
       "[<matplotlib.lines.Line2D at 0x7f70d636be10>]"
      ]
     },
     "execution_count": 9,
     "metadata": {},
     "output_type": "execute_result"
    },
    {
     "data": {
      "image/png": "[encoded data removed]",
      "text/plain": [
       "<Figure size 432x288 with 1 Axes>"
      ]
     },
     "metadata": {
      "needs_background": "light"
     },
     "output_type": "display_data"
    }
   ],
   "source": [
    "%matplotlib inline\n",
    "import matplotlib.pyplot as plt\n",
    "\n",
    "plt.plot(time, results)"
   ]
  },
  {
   "cell_type": "markdown",
   "metadata": {},
   "source": [
    "Note that one should estimate the errors on these values but we omit this step."
   ]
  }
 ],
 "metadata": {
  "kernelspec": {
   "display_name": "Python 3",
   "language": "python",
   "name": "python3"
  },
  "language_info": {
   "codemirror_mode": {
    "name": "ipython",
    "version": 3
   },
   "file_extension": ".py",
   "mimetype": "text/x-python",
   "name": "python",
   "nbconvert_exporter": "python",
   "pygments_lexer": "ipython3",
   "version": "3.7.3"
  }
 },
 "nbformat": 4,
 "nbformat_minor": 2
}
