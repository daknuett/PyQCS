{
 "cells": [
  {
   "cell_type": "code",
   "execution_count": 1,
   "metadata": {},
   "outputs": [],
   "source": [
    "import pyqcs"
   ]
  },
  {
   "cell_type": "markdown",
   "metadata": {},
   "source": [
    "# Bell State Example\n",
    "\n",
    "This example creates and measures the [bell state](https://en.wikipedia.org/wiki/Bell_state) \n",
    "showing the basic usage of pyqcs."
   ]
  },
  {
   "cell_type": "code",
   "execution_count": 2,
   "metadata": {},
   "outputs": [
    {
     "data": {
      "text/plain": [
       "(1+0j)*|0b0>"
      ]
     },
     "execution_count": 2,
     "metadata": {},
     "output_type": "execute_result"
    }
   ],
   "source": [
    "state = pyqcs.State.new_zero_state(2)\n",
    "state"
   ]
  },
  {
   "cell_type": "markdown",
   "metadata": {},
   "source": [
    "This is the zero state. In order to create a bell state we will apply the Hadamard gate to bring the simulator in a superposition of 1 and 0 state:"
   ]
  },
  {
   "cell_type": "code",
   "execution_count": 3,
   "metadata": {},
   "outputs": [
    {
     "data": {
      "text/plain": [
       "(0.7071067811865476+0j)*|0b0> + (0.7071067811865476+0j)*|0b1>"
      ]
     },
     "execution_count": 3,
     "metadata": {},
     "output_type": "execute_result"
    }
   ],
   "source": [
    "state_1 = pyqcs.H(0) * state\n",
    "state_1"
   ]
  },
  {
   "cell_type": "markdown",
   "metadata": {},
   "source": [
    "Now apply the CNOT gate yielding the bell state:"
   ]
  },
  {
   "cell_type": "code",
   "execution_count": 4,
   "metadata": {},
   "outputs": [
    {
     "data": {
      "text/plain": [
       "(0.7071067811865476+0j)*|0b0> + (0.7071067811865476+0j)*|0b11>"
      ]
     },
     "execution_count": 4,
     "metadata": {},
     "output_type": "execute_result"
    }
   ],
   "source": [
    "state_2 = pyqcs.C(1, 0) * state_1\n",
    "state_2"
   ]
  },
  {
   "cell_type": "markdown",
   "metadata": {},
   "source": [
    "At first let's measure the 0th qbit and see what happens:"
   ]
  },
  {
   "cell_type": "code",
   "execution_count": 5,
   "metadata": {},
   "outputs": [
    {
     "data": {
      "text/plain": [
       "(1.0000000000000002+0j)*|0b0>"
      ]
     },
     "execution_count": 5,
     "metadata": {},
     "output_type": "execute_result"
    }
   ],
   "source": [
    "state_3 = pyqcs.M(0) * state_2\n",
    "state_3"
   ]
  },
  {
   "cell_type": "code",
   "execution_count": 6,
   "metadata": {},
   "outputs": [
    {
     "data": {
      "text/plain": [
       "array([ 0, -1], dtype=int8)"
      ]
     },
     "execution_count": 6,
     "metadata": {},
     "output_type": "execute_result"
    }
   ],
   "source": [
    "state_3._cl_state"
   ]
  },
  {
   "cell_type": "markdown",
   "metadata": {},
   "source": [
    "As you can see a zero has been measured and the wave function has been collapsed. One can access the measured data using ``state._cl_state``. \n",
    "\n",
    "**Note** that the classical data is initialized as 0 and kept until it is overwritten."
   ]
  },
  {
   "cell_type": "markdown",
   "metadata": {},
   "source": [
    "Measuring such a state is a statistical procedure. Fortunately our simulator supports copying states, [something that is not possible on a real quantum computer](https://en.wikipedia.org/wiki/No-cloning_theorem).\n",
    "We will measure 8 times, always the 0th qbit first:"
   ]
  },
  {
   "cell_type": "code",
   "execution_count": 7,
   "metadata": {},
   "outputs": [
    {
     "data": {
      "text/plain": [
       "[array([0, 0], dtype=int8),\n",
       " array([0, 0], dtype=int8),\n",
       " array([0, 0], dtype=int8),\n",
       " array([0, 0], dtype=int8),\n",
       " array([0, 0], dtype=int8),\n",
       " array([0, 0], dtype=int8),\n",
       " array([0, 0], dtype=int8),\n",
       " array([0, 0], dtype=int8)]"
      ]
     },
     "execution_count": 7,
     "metadata": {},
     "output_type": "execute_result"
    }
   ],
   "source": [
    "measurement_gate = pyqcs.M(0) | pyqcs.M(1)\n",
    "\n",
    "measurements = [(measurement_gate * state_2)._cl_state for _ in range(8)]\n",
    "measurements"
   ]
  },
  {
   "cell_type": "markdown",
   "metadata": {},
   "source": [
    "As you can see measuring one qbit collapses the wave function, making it sure that the second qbit measured has the same value."
   ]
  },
  {
   "cell_type": "markdown",
   "metadata": {},
   "source": [
    "Measuring (or sampling) can also be done using the functions `pyqcs.measure` and `pyqcs.sample` that provide a more intuitive way to perform (multi-qbit) measurements on a state. Note that those two functions ignore previous measurement results."
   ]
  },
  {
   "cell_type": "code",
   "execution_count": 8,
   "metadata": {},
   "outputs": [
    {
     "data": {
      "text/plain": [
       "Counter({3: 4121, 0: 3879})"
      ]
     },
     "execution_count": 8,
     "metadata": {},
     "output_type": "execute_result"
    }
   ],
   "source": [
    "pyqcs.sample(state_2, 0b11, 8000)"
   ]
  },
  {
   "cell_type": "markdown",
   "metadata": {},
   "source": [
    "Sometimes it is interesting to see to what states the measurement collapses the original states. This can be done using the `keep_states` argument:"
   ]
  },
  {
   "cell_type": "code",
   "execution_count": 9,
   "metadata": {},
   "outputs": [
    {
     "data": {
      "text/plain": [
       "Counter({((1+0j)*|0b11>, 3): 3985, ((1.0000000000000002+0j)*|0b0>, 0): 4015})"
      ]
     },
     "execution_count": 9,
     "metadata": {},
     "output_type": "execute_result"
    }
   ],
   "source": [
    "pyqcs.sample(state_2, 0b11, 8000, keep_states=True)"
   ]
  }
 ],
 "metadata": {
  "kernelspec": {
   "display_name": "Python 3",
   "language": "python",
   "name": "python3"
  },
  "language_info": {
   "codemirror_mode": {
    "name": "ipython",
    "version": 3
   },
   "file_extension": ".py",
   "mimetype": "text/x-python",
   "name": "python",
   "nbconvert_exporter": "python",
   "pygments_lexer": "ipython3",
   "version": "3.7.3"
  }
 },
 "nbformat": 4,
 "nbformat_minor": 2
}
